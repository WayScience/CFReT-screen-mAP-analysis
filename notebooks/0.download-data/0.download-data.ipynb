{
 "cells": [
  {
   "cell_type": "markdown",
   "metadata": {},
   "source": [
    "# Module 0: Downloading Metadata\n",
    "\n",
    "In this module, we download the metadata required for the CFReT screen project.\n",
    "All downloaded files and processed data will be placed in the `./data` folder.\n",
    "\n",
    "The specific data being downloaded in this script is the metadata associated \n",
    "with the CFReT screen, hosted on GitHub. The metadata folder's repository link is:\n",
    "https://github.com/WayScience/targeted_fibrosis_drug_screen/tree/main/metadata\n",
    "\n"
   ]
  },
  {
   "cell_type": "code",
   "execution_count": 1,
   "metadata": {},
   "outputs": [],
   "source": [
    "import sys\n",
    "import shutil\n",
    "import zipfile\n",
    "import pathlib\n",
    "import tempfile\n",
    "\n",
    "import requests\n",
    "\n",
    "# importing analysis modules/imports\n",
    "sys.path.append(\"../../\")\n",
    "from utils.io_utils import load_config"
   ]
  },
  {
   "cell_type": "markdown",
   "metadata": {},
   "source": [
    "Setting input and output paths"
   ]
  },
  {
   "cell_type": "code",
   "execution_count": 2,
   "metadata": {},
   "outputs": [],
   "source": [
    "# creating a data folder\n",
    "data_dir_path = pathlib.Path(\"../data\").resolve()\n",
    "data_dir_path.mkdir(exist_ok=True)\n",
    "\n",
    "# setting config path\n",
    "config_path = pathlib.Path(\"../config.yaml\").resolve(strict=True)\n",
    "\n",
    "# setting compressed file path\n",
    "zip_path = (data_dir_path / \"metadata.zip\").resolve()\n",
    "\n",
    "# create a temp file:\n",
    "temp_dir = tempfile.mkdtemp()\n",
    "temp_dir_path = pathlib.Path(temp_dir).resolve()"
   ]
  },
  {
   "cell_type": "markdown",
   "metadata": {},
   "source": [
    "Loading in the project configuration file"
   ]
  },
  {
   "cell_type": "code",
   "execution_count": 3,
   "metadata": {},
   "outputs": [],
   "source": [
    "# loading config file\n",
    "loaded_configs = load_config(config_path)\n",
    "download_configs = loaded_configs[\"download_configs\"]"
   ]
  },
  {
   "cell_type": "markdown",
   "metadata": {},
   "source": [
    "Downloading the metadata data and storing it into the `./data` directory"
   ]
  },
  {
   "cell_type": "code",
   "execution_count": 4,
   "metadata": {},
   "outputs": [
    {
     "name": "stdout",
     "output_type": "stream",
     "text": [
      "Contents from the GitHub folder have been downloaded: /home/erikserrano/Development/CFReT-screen-mAP-analysis/notebooks/data/metadata.zip\n",
      "Repository contents extracted into a temporary folder: /tmp/tmpdi8tjjo3\n",
      "Metadata folder moved to /home/erikserrano/Development/CFReT-screen-mAP-analysis/notebooks/data/metadata\n",
      "Temporary files and directories cleaned up.\n"
     ]
    }
   ],
   "source": [
    "# Download the repository as a ZIP file\n",
    "response = requests.get(download_configs[\"github_metadata_url\"], stream=True)\n",
    "response.raise_for_status()\n",
    "\n",
    "# once we get a  to github, we start download the metadata directory as a zip file\n",
    "with open(zip_path, \"wb\") as zip_file:\n",
    "    for chunk in response.iter_content(chunk_size=download_configs[\"download_chunk_size\"]):\n",
    "        zip_file.write(chunk)\n",
    "print(f\"Contents from the GitHub folder have been downloaded: {str(zip_path)}\")\n",
    "\n",
    "# Extract the ZIP file into the temporary directory\n",
    "with zipfile.ZipFile(zip_path, \"r\") as zip_ref:\n",
    "    zip_ref.extractall(temp_dir_path)\n",
    "print(f\"Repository contents extracted into a temporary folder: {str(temp_dir_path)}\")\n",
    "\n",
    "# Locate metadata folder within the extracted repository\n",
    "extracted_repo_dir = next(temp_dir_path.glob(\"*\"))  # Assuming there's only one top-level folder\n",
    "source_folder = extracted_repo_dir / \"metadata\"\n",
    "target_folder = data_dir_path / \"metadata\"\n",
    "\n",
    "if source_folder.exists():\n",
    "    # Copy the `metadata` folder to the final data directory\n",
    "    if target_folder.exists():\n",
    "        shutil.rmtree(target_folder)  # Clear any existing folder\n",
    "    shutil.move(str(source_folder), str(target_folder))\n",
    "    print(f\"Metadata folder moved to {str(target_folder)}\")\n",
    "else:\n",
    "    print(\"Metadata folder not found in the repository.\")\n",
    "\n",
    "# Clean up temporary directory and ZIP file\n",
    "shutil.rmtree(temp_dir_path)\n",
    "zip_path.unlink()\n",
    "print(\"Temporary files and directories cleaned up.\")"
   ]
  }
 ],
 "metadata": {
  "kernelspec": {
   "display_name": "cfret-map",
   "language": "python",
   "name": "python3"
  },
  "language_info": {
   "codemirror_mode": {
    "name": "ipython",
    "version": 3
   },
   "file_extension": ".py",
   "mimetype": "text/x-python",
   "name": "python",
   "nbconvert_exporter": "python",
   "pygments_lexer": "ipython3",
   "version": "3.11.11"
  }
 },
 "nbformat": 4,
 "nbformat_minor": 2
}
