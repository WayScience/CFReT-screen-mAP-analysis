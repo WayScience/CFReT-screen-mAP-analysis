{
 "cells": [
  {
   "cell_type": "code",
   "execution_count": 1,
   "id": "8f3fa0b2",
   "metadata": {},
   "outputs": [],
   "source": [
    "import sys\n",
    "import pathlib\n",
    "import pandas as pd\n",
    "from pycytominer.cyto_utils import load_profiles\n",
    "from comparison_tools.PairwiseCompareManager import PairwiseCompareManager\n",
    "from comparators.PearsonsCorrelation import PearsonsCorrelation\n",
    "\n",
    "# loading project utils\n",
    "sys.path.append(\"../../../\")\n",
    "from utils.data_utils import split_meta_and_features"
   ]
  },
  {
   "cell_type": "code",
   "execution_count": 2,
   "id": "df373d81",
   "metadata": {},
   "outputs": [],
   "source": [
    "# set data path\n",
    "data_path = pathlib.Path(\n",
    "    \"../UMAP-aggregated-fs-profiles/results/concat_data/batch_1_concat_agg_fs.csv\"\n",
    ").resolve(strict=True)\n",
    "\n",
    "# setting output path\n",
    "output_path = pathlib.Path(\"./results\").resolve()\n",
    "output_path.mkdir(exist_ok=True)"
   ]
  },
  {
   "cell_type": "code",
   "execution_count": 3,
   "id": "a14d79b2",
   "metadata": {},
   "outputs": [],
   "source": [
    "# loading in CFReT well aggregated profiles\n",
    "agg_profile = load_profiles(data_path)\n",
    "\n",
    "# split the features:\n",
    "metadata, features = split_meta_and_features(agg_profile)\n",
    "\n",
    "# now only select DMSO profiles that are DMSO_positive and DMSO-negative\n",
    "dmso_profiles = agg_profile.loc[\n",
    "    (agg_profile[\"Metadata_treatment\"] == \"DMSO-positive\")\n",
    "    | (agg_profile[\"Metadata_treatment\"] == \"DMSO-negative\")\n",
    "]\n",
    "\n",
    "# create a dataframe only containing pathway information and the the treatments\n",
    "pathway_df = agg_profile[[\"Metadata_treatment\", \"Metadata_Pathway\"]]"
   ]
  },
  {
   "cell_type": "markdown",
   "id": "036f5f75",
   "metadata": {},
   "source": [
    "## Applying pairwise-compare to only the controls"
   ]
  },
  {
   "cell_type": "markdown",
   "id": "283c4c14",
   "metadata": {},
   "source": [
    "**Calculating Pairwise Correlation Scores for Controls**\n",
    "\n",
    "In this section, we calculate the pairwise correlation scores for both healthy controls (DMSO-positive) and failing controls (DMSO-negative). The goal is to assess whether batch effects are present within the same control groups. Specifically:\n",
    "\n",
    "- **Healthy Controls (DMSO-positive):** We compare healthy controls across all plates to evaluate their similarity.\n",
    "- **Failing Controls (DMSO-negative):** We compare failing controls across all plates to evaluate their similarity.\n",
    "\n",
    "This analysis helps identify potential inconsistencies or batch effects within the same control groups."
   ]
  },
  {
   "cell_type": "code",
   "execution_count": 4,
   "id": "d3be0f87",
   "metadata": {},
   "outputs": [
    {
     "name": "stderr",
     "output_type": "stream",
     "text": [
      "/home/erikserrano/Programs/miniconda3/envs/cfret-map/lib/python3.11/site-packages/comparison_tools/PairwiseCompare.py:80: UserWarning: DataFrame contains NaNs\n",
      "  warnings.warn(\"DataFrame contains NaNs\")\n"
     ]
    }
   ],
   "source": [
    "# Comparing all positive controls (healthy cells) cross all plates to see if they are similar\n",
    "dmso_pos_cntrl_comparer = PairwiseCompareManager(\n",
    "    _df=dmso_profiles.loc[dmso_profiles[\"Metadata_treatment\"] == \"DMSO-positive\"],\n",
    "    _feat_cols=features,\n",
    "    _different_columns=[\"Metadata_plate_name\", \"Metadata_Well\"],\n",
    "    _same_columns=[\"Metadata_treatment\"],\n",
    "    _comparator=PearsonsCorrelation(),\n",
    ")\n",
    "\n",
    "# collecting all pairwise scores\n",
    "pos_cntrl_pairwise_scores = dmso_pos_cntrl_comparer()"
   ]
  },
  {
   "cell_type": "code",
   "execution_count": 5,
   "id": "8fc73504",
   "metadata": {},
   "outputs": [
    {
     "name": "stderr",
     "output_type": "stream",
     "text": [
      "/home/erikserrano/Programs/miniconda3/envs/cfret-map/lib/python3.11/site-packages/comparison_tools/PairwiseCompare.py:80: UserWarning: DataFrame contains NaNs\n",
      "  warnings.warn(\"DataFrame contains NaNs\")\n"
     ]
    }
   ],
   "source": [
    "# Comparing all negative controls (unhealthy cells) cross all plates to see if they are similar\n",
    "dmso_neg_cntrl_comparer = PairwiseCompareManager(\n",
    "    _df=dmso_profiles.loc[dmso_profiles[\"Metadata_treatment\"] == \"DMSO-negative\"],\n",
    "    _feat_cols=features,\n",
    "    _different_columns=[\"Metadata_plate_name\", \"Metadata_Well\"],\n",
    "    _same_columns=[\"Metadata_treatment\"],\n",
    "    _comparator=PearsonsCorrelation(),\n",
    ")\n",
    "\n",
    "# collecting all pairwise scores\n",
    "neg_cntrl_pairwise_scores = dmso_neg_cntrl_comparer()\n"
   ]
  },
  {
   "cell_type": "code",
   "execution_count": 6,
   "id": "0bf28b96",
   "metadata": {},
   "outputs": [],
   "source": [
    "# concatenate the scores\n",
    "final_dmso_pairwise_scores = pd.concat(\n",
    "    [\n",
    "        pos_cntrl_pairwise_scores[\n",
    "            [\"pearsons_correlation\", \"Metadata_treatment__antehoc_group0\"]\n",
    "        ],\n",
    "        neg_cntrl_pairwise_scores[\n",
    "            [\"pearsons_correlation\", \"Metadata_treatment__antehoc_group0\"]\n",
    "        ],\n",
    "    ]\n",
    ")\n",
    "\n",
    "# update the columns names\n",
    "final_dmso_pairwise_scores.columns = [\"pearsons_correlation\", \"Metadata_treatment\"]\n",
    "\n",
    "# save to csv file\n",
    "final_dmso_pairwise_scores.to_csv(\n",
    "    output_path / \"final_pairwise_scores.csv\", index=False\n",
    ")"
   ]
  },
  {
   "cell_type": "markdown",
   "id": "9bdb883a",
   "metadata": {},
   "source": [
    "## Calculating pair wise across treatments\n",
    "\n",
    "In this section of the notebook, we conduct pairwise comparisons across all treatments and specific controls. Two data frames are created:\n",
    "\n",
    "- **`healthy_ref`**: This dataset contains pairwise calculations comparing all treated failing cells to the healthy reference.\n",
    "- **`failing_ref`**: This dataset contains pairwise calculations comparing all treated failing cells to the failing reference."
   ]
  },
  {
   "cell_type": "code",
   "execution_count": 7,
   "id": "8bdbf5c3",
   "metadata": {},
   "outputs": [
    {
     "name": "stderr",
     "output_type": "stream",
     "text": [
      "/home/erikserrano/Programs/miniconda3/envs/cfret-map/lib/python3.11/site-packages/comparison_tools/PairwiseCompare.py:80: UserWarning: DataFrame contains NaNs\n",
      "  warnings.warn(\"DataFrame contains NaNs\")\n",
      "/home/erikserrano/Programs/miniconda3/envs/cfret-map/lib/python3.11/site-packages/comparison_tools/PairwiseCompare.py:80: UserWarning: DataFrame contains NaNs\n",
      "  warnings.warn(\"DataFrame contains NaNs\")\n"
     ]
    }
   ],
   "source": [
    "# calculating pairwise correlation between healthy control and treated failing wells\n",
    "healthy_ref_trt_pairwise_comparer = PairwiseCompareManager(\n",
    "    _df=agg_profile.loc[agg_profile[\"Metadata_treatment\"] != \"DMSO-negative\"],\n",
    "    _feat_cols=features,\n",
    "    _different_columns=[\n",
    "        \"Metadata_control_type\",\n",
    "        \"Metadata_treatment\",\n",
    "    ],\n",
    "    _comparator=PearsonsCorrelation(),\n",
    ")\n",
    "\n",
    "# calculating pairwise correlation between failing control and treated failing wells\n",
    "failing_ref_trt_pairwise_comparer = PairwiseCompareManager(\n",
    "    _df=agg_profile.loc[agg_profile[\"Metadata_treatment\"] != \"DMSO-positive\"],\n",
    "    _feat_cols=features,\n",
    "    _different_columns=[\"Metadata_control_type\", \"Metadata_treatment\"],\n",
    "    _comparator=PearsonsCorrelation(),\n",
    ")\n",
    "\n",
    "# collecting all pairwise scores\n",
    "healthy_ref_trt_pairwise_scores = healthy_ref_trt_pairwise_comparer()\n",
    "failing_ref_trt_pairwise_scores = failing_ref_trt_pairwise_comparer()"
   ]
  },
  {
   "cell_type": "code",
   "execution_count": 8,
   "id": "c3058db2",
   "metadata": {},
   "outputs": [],
   "source": [
    "# Select only the relevant columns and add a reference column for healthy controls\n",
    "health_ref_pairwise_scores = healthy_ref_trt_pairwise_scores[\n",
    "    [\"pearsons_correlation\", \"Metadata_treatment__antehoc_group1\"]\n",
    "].copy()\n",
    "health_ref_pairwise_scores[\"reference\"] = \"Healthy\"\n",
    "\n",
    "# Select only the relevant columns and add a reference column for failing controls\n",
    "failing_ref_pairwise_scores = failing_ref_trt_pairwise_scores[\n",
    "    [\"pearsons_correlation\", \"Metadata_treatment__antehoc_group1\"]\n",
    "].copy()\n",
    "failing_ref_pairwise_scores[\"reference\"] = \"Failing\"\n",
    "\n",
    "# Combine the healthy and failing control dataframes into a single dataframe\n",
    "final_trt_pairwise_scores = (\n",
    "    pd.concat([health_ref_pairwise_scores, failing_ref_pairwise_scores])\n",
    "    .rename(columns={\"Metadata_treatment__antehoc_group1\": \"Metadata_treatment\"})\n",
    "    .reset_index(drop=True)\n",
    ")\n",
    "\n",
    "# Merge the combined dataframe with pathway information from pathway_df\n",
    "# This adds the Metadata_Pathway column to the final dataframe\n",
    "final_trt_pairwise_scores = final_trt_pairwise_scores.merge(\n",
    "    pathway_df, how=\"left\", on=\"Metadata_treatment\"\n",
    ").drop_duplicates()\n",
    "\n",
    "# Validate the correctness of the pathway information by comparing the merged data\n",
    "# with the original pathway dictionary (pathway_dict)\n",
    "final_trt_pairwise_pathways = dict(\n",
    "    zip(\n",
    "        final_trt_pairwise_scores[\"Metadata_treatment\"],\n",
    "        final_trt_pairwise_scores[\"Metadata_Pathway\"],\n",
    "    )\n",
    ")\n",
    "pathway_dict = dict(\n",
    "    zip(\n",
    "        pathway_df[\"Metadata_treatment\"],\n",
    "        pathway_df[\"Metadata_Pathway\"],\n",
    "    )\n",
    ")\n",
    "# Validate the correctness of the pathway information\n",
    "for treatment, merged_pathway in final_trt_pairwise_pathways.items():\n",
    "    original_pathway = pathway_dict.get(treatment)\n",
    "\n",
    "    if original_pathway is None:\n",
    "        raise KeyError(\"Key {treatment} not found in pathway_dict\")\n",
    "    elif merged_pathway != original_pathway:\n",
    "        if pd.isna(merged_pathway) and pd.isna(original_pathway):\n",
    "            continue\n",
    "        raise ValueError(\n",
    "            f\"Pathway mismatch for key {treatment}: {merged_pathway} != {original_pathway}\"\n",
    "        )\n",
    "        \n",
    "# If there are NaN values in the pathway column, fill them with \"No Pathway\"\n",
    "final_trt_pairwise_scores[\"Metadata_Pathway\"] = final_trt_pairwise_scores[\n",
    "    \"Metadata_Pathway\"\n",
    "].apply(lambda x: x if pd.notna(x) else \"No Pathway\")\n",
    "\n",
    "# Save the final dataframe with pairwise scores and pathway information to a CSV file\n",
    "final_trt_pairwise_scores.to_csv(\n",
    "    output_path / \"final_trt_pairwise_scores.csv\", index=False\n",
    ")\n"
   ]
  }
 ],
 "metadata": {
  "kernelspec": {
   "display_name": "cfret-map",
   "language": "python",
   "name": "python3"
  },
  "language_info": {
   "codemirror_mode": {
    "name": "ipython",
    "version": 3
   },
   "file_extension": ".py",
   "mimetype": "text/x-python",
   "name": "python",
   "nbconvert_exporter": "python",
   "pygments_lexer": "ipython3",
   "version": "3.11.5"
  }
 },
 "nbformat": 4,
 "nbformat_minor": 5
}
