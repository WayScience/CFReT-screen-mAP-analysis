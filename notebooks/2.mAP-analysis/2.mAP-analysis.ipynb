{
 "cells": [
  {
   "cell_type": "markdown",
   "metadata": {},
   "source": [
    "# module 1: Mean Average Precision (mAP)"
   ]
  },
  {
   "cell_type": "code",
   "execution_count": 1,
   "metadata": {},
   "outputs": [
    {
     "name": "stderr",
     "output_type": "stream",
     "text": [
      "/home/erikserrano/Programs/miniconda3/envs/cfret-map/lib/python3.11/site-packages/tqdm/auto.py:21: TqdmWarning: IProgress not found. Please update jupyter and ipywidgets. See https://ipywidgets.readthedocs.io/en/stable/user_install.html\n",
      "  from .autonotebook import tqdm as notebook_tqdm\n"
     ]
    }
   ],
   "source": [
    "import sys\n",
    "import pathlib\n",
    "\n",
    "import pandas as pd\n",
    "from copairs import map\n",
    "\n",
    "# adding src module\n",
    "sys.path.append(\"../../\")\n",
    "from src import io_utils, data_utils"
   ]
  },
  {
   "cell_type": "markdown",
   "metadata": {},
   "source": [
    "Setting up paths and creating directories"
   ]
  },
  {
   "cell_type": "code",
   "execution_count": 10,
   "metadata": {},
   "outputs": [],
   "source": [
    "# setting up data directory path from module 1\n",
    "data_dir_path = pathlib.Path(\"../1.preprocessing-features/results/aggregated_profiles\").resolve(strict=True)\n",
    "\n",
    "# setting up paths that contains the aggregate profiles\n",
    "repl_dir_path = (data_dir_path / \"repl_agg\").resolve(strict=True)\n",
    "moa_dir_path = (data_dir_path / \"moa_agg\").resolve(strict=True)\n",
    "\n",
    "# setting paths for all aggregate profiles\n",
    "repl_profile_paths = list(repl_dir_path.glob(\"*.parquet\"))\n",
    "moa_profile_paths = list(moa_dir_path.glob(\"*.parquet\"))\n",
    "\n",
    "# creating module directories\n",
    "figures_dir_path = pathlib.Path(\"figures\").resolve()\n",
    "figures_dir_path.mkdir(exist_ok=True)\n",
    "results_dir_path = pathlib.Path(\"results\").resolve()\n",
    "results_dir_path.mkdir(exist_ok=True)\n",
    "\n",
    "# config path\n",
    "config_path = pathlib.Path(\"../config.yaml\").resolve(strict=True)"
   ]
  },
  {
   "cell_type": "code",
   "execution_count": 11,
   "metadata": {},
   "outputs": [
    {
     "name": "stdout",
     "output_type": "stream",
     "text": [
      "shape of replicate aggregate profile (192, 2005)\n",
      "shape of moa aggregate profile (50, 2005)\n"
     ]
    }
   ],
   "source": [
    "# loading in file\n",
    "copairs_ap_configs = io_utils.load_config(config_path, specific=\"copairs_ap_configs\")\n",
    "\n",
    "# loading profile\n",
    "repl_df = pd.concat([pd.read_parquet(profile_path) for profile_path in repl_profile_paths])\n",
    "moa_df = pd.concat([pd.read_parquet(profile_path) for profile_path in moa_profile_paths])\n",
    "\n",
    "print(\"shape of replicate aggregate profile\", repl_df.shape)\n",
    "print(\"shape of moa aggregate profile\", moa_df.shape)"
   ]
  },
  {
   "cell_type": "markdown",
   "metadata": {},
   "source": [
    "## Applying mAP"
   ]
  },
  {
   "cell_type": "code",
   "execution_count": 18,
   "metadata": {},
   "outputs": [
    {
     "data": {
      "text/plain": [
       "['Metadata_plate_id', 'Metadata_treatment']"
      ]
     },
     "execution_count": 18,
     "metadata": {},
     "output_type": "execute_result"
    }
   ],
   "source": [
    "repl_meta, repl_feats = data_utils.split_meta_and_features(repl_df)\n",
    "repl_meta"
   ]
  },
  {
   "cell_type": "markdown",
   "metadata": {},
   "source": [
    "### Compound level AP"
   ]
  },
  {
   "cell_type": "code",
   "execution_count": null,
   "metadata": {},
   "outputs": [],
   "source": [
    "# calculating average precision\n",
    "compounds_aps = map.average_precision(\n",
    "    meta=repl_df[repl_meta],\n",
    "    feats=repl_df[repl_feats].values,\n",
    "    pos_sameby=copairs_ap_configs[\"pos_sameby\"],\n",
    "    pos_diffby=copairs_ap_configs[\"pos_diffby\"],\n",
    "    neg_sameby=copairs_ap_configs[\"neg_sameby\"],\n",
    "    neg_diffby=copairs_ap_configs[\"neg_diffby\"],\n",
    ")\n",
    "\n",
    "# calculating mean average precision (mAP)\n",
    "# replicate_maps = map.mean_average_precision(\n",
    "#     compounds_aps, pos_sameby=comp_map_configs[\"pos_samby\"], null_size=10000, threshold=0.05, seed=0\n",
    "# )"
   ]
  }
 ],
 "metadata": {
  "kernelspec": {
   "display_name": "cfret-map",
   "language": "python",
   "name": "python3"
  },
  "language_info": {
   "codemirror_mode": {
    "name": "ipython",
    "version": 3
   },
   "file_extension": ".py",
   "mimetype": "text/x-python",
   "name": "python",
   "nbconvert_exporter": "python",
   "pygments_lexer": "ipython3",
   "version": "3.11.11"
  }
 },
 "nbformat": 4,
 "nbformat_minor": 2
}
