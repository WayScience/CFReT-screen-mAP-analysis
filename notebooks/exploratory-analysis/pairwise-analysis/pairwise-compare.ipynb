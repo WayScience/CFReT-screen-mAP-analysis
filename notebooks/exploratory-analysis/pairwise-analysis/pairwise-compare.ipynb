{
 "cells": [
  {
   "cell_type": "markdown",
   "id": "cac2465f",
   "metadata": {},
   "source": [
    "# Comparing controls and treatments using pairwise compare \n",
    "\n",
    "This notebook employs pairwise comparison to quantify the similarity between cellular profiles. In this section, we assess the consistency of experimental replicates and evaluate the similarity between treated wells (containing failing cardiac fibroblast cells) and control wells."
   ]
  },
  {
   "cell_type": "code",
   "execution_count": 1,
   "id": "8f3fa0b2",
   "metadata": {},
   "outputs": [],
   "source": [
    "import sys\n",
    "import pathlib\n",
    "import pandas as pd\n",
    "from pycytominer import consensus\n",
    "from pycytominer.cyto_utils import load_profiles\n",
    "from comparison_tools.PairwiseCompareManager import PairwiseCompareManager\n",
    "from comparators.PearsonsCorrelation import PearsonsCorrelation\n",
    "\n",
    "# loading project utils\n",
    "sys.path.append(\"../../../\")\n",
    "from utils.data_utils import split_meta_and_features"
   ]
  },
  {
   "cell_type": "code",
   "execution_count": 2,
   "id": "df373d81",
   "metadata": {},
   "outputs": [],
   "source": [
    "# set data path\n",
    "data_path = pathlib.Path(\n",
    "    \"../UMAP-aggregated-fs-profiles/results/concat_data/batch_1_concat_agg_fs.csv\"\n",
    ").resolve(strict=True)\n",
    "\n",
    "# setting output path\n",
    "output_path = pathlib.Path(\"./results\").resolve()\n",
    "output_path.mkdir(exist_ok=True)"
   ]
  },
  {
   "cell_type": "code",
   "execution_count": 3,
   "id": "a14d79b2",
   "metadata": {},
   "outputs": [
    {
     "name": "stderr",
     "output_type": "stream",
     "text": [
      "/tmp/ipykernel_1730669/2571744443.py:12: FutureWarning: Series.__getitem__ treating keys as positions is deprecated. In a future version, integer keys will always be treated as labels (consistent with DataFrame behavior). To access a value by position, use `ser.iloc[pos]`\n",
      "  dmso_profiles[\"Metadata_plate_well\"] = dmso_profiles[[\"Metadata_plate_name\", \"Metadata_Well\"]].apply(lambda row: f\"{row[0]}_{row[1]}\", axis=1)\n",
      "/tmp/ipykernel_1730669/2571744443.py:12: PerformanceWarning: DataFrame is highly fragmented.  This is usually the result of calling `frame.insert` many times, which has poor performance.  Consider joining all columns at once using pd.concat(axis=1) instead. To get a de-fragmented frame, use `newframe = frame.copy()`\n",
      "  dmso_profiles[\"Metadata_plate_well\"] = dmso_profiles[[\"Metadata_plate_name\", \"Metadata_Well\"]].apply(lambda row: f\"{row[0]}_{row[1]}\", axis=1)\n"
     ]
    }
   ],
   "source": [
    "# Create the \"Metadata_plate_well\" column using iloc\n",
    "agg_profile = load_profiles(data_path)\n",
    "\n",
    "# split the features:\n",
    "metadata, features = split_meta_and_features(agg_profile)\n",
    "\n",
    "# now only select DMSO profiles that are DMSO_positive and DMSO-negative\n",
    "dmso_profiles = agg_profile.loc[\n",
    "    (agg_profile[\"Metadata_treatment\"] == \"DMSO-positive\")\n",
    "    | (agg_profile[\"Metadata_treatment\"] == \"DMSO-negative\")\n",
    "]\n",
    "dmso_profiles[\"Metadata_plate_well\"] = dmso_profiles[[\"Metadata_plate_name\", \"Metadata_Well\"]].apply(lambda row: f\"{row[0]}_{row[1]}\", axis=1)\n",
    "\n",
    "# create a dataframe only containing pathway information and the the treatments\n",
    "pathway_df = agg_profile[[\"Metadata_treatment\", \"Metadata_Pathway\"]]"
   ]
  },
  {
   "cell_type": "markdown",
   "id": "036f5f75",
   "metadata": {},
   "source": [
    "## Applying pairwise-compare to only the controls"
   ]
  },
  {
   "cell_type": "markdown",
   "id": "283c4c14",
   "metadata": {},
   "source": [
    "**Calculating Pairwise Correlation Scores for Controls**\n",
    "\n",
    "In this section, we calculate the pairwise correlation scores for both healthy controls (DMSO-positive) and failing controls (DMSO-negative). The goal is to assess whether batch effects are present within the same control groups. Specifically:\n",
    "\n",
    "- **Healthy Controls (DMSO-positive):** We compare healthy controls across all plates to evaluate their similarity.\n",
    "- **Failing Controls (DMSO-negative):** We compare failing controls across all plates to evaluate their similarity.\n",
    "\n",
    "This analysis helps identify potential inconsistencies or batch effects within the same control groups."
   ]
  },
  {
   "cell_type": "code",
   "execution_count": 4,
   "id": "d3be0f87",
   "metadata": {},
   "outputs": [
    {
     "name": "stderr",
     "output_type": "stream",
     "text": [
      "/home/erikserrano/Programs/miniconda3/envs/cfret-map/lib/python3.11/site-packages/comparison_tools/PairwiseCompare.py:80: UserWarning: DataFrame contains NaNs\n",
      "  warnings.warn(\"DataFrame contains NaNs\")\n"
     ]
    }
   ],
   "source": [
    "# Comparing all positive controls (healthy cells) cross all plates to see if they are similar\n",
    "dmso_pos_cntrl_comparer = PairwiseCompareManager(\n",
    "    _df=dmso_profiles.loc[dmso_profiles[\"Metadata_treatment\"] == \"DMSO-positive\"],\n",
    "    _feat_cols=features,\n",
    "    _different_columns=[\"Metadata_plate_well\"],\n",
    "    _same_columns=[\"Metadata_treatment\"],\n",
    "    _comparator=PearsonsCorrelation(),\n",
    ")\n",
    "\n",
    "# collecting all pairwise scores\n",
    "pos_cntrl_pairwise_scores = dmso_pos_cntrl_comparer()\n"
   ]
  },
  {
   "cell_type": "code",
   "execution_count": 5,
   "id": "8fc73504",
   "metadata": {},
   "outputs": [],
   "source": [
    "# Comparing all negative controls (unhealthy cells) cross all plates to see if they are similar\n",
    "dmso_neg_cntrl_comparer = PairwiseCompareManager(\n",
    "    _df=dmso_profiles.loc[dmso_profiles[\"Metadata_treatment\"] == \"DMSO-negative\"],\n",
    "    _feat_cols=features,\n",
    "    _different_columns=[\"Metadata_plate_well\"],\n",
    "    _same_columns=[\"Metadata_treatment\"],\n",
    "    _comparator=PearsonsCorrelation(),\n",
    ")\n",
    "\n",
    "# collecting all pairwise scores\n",
    "neg_cntrl_pairwise_scores = dmso_neg_cntrl_comparer()"
   ]
  },
  {
   "cell_type": "code",
   "execution_count": 6,
   "id": "0bf28b96",
   "metadata": {},
   "outputs": [],
   "source": [
    "# concatenate the scores\n",
    "final_dmso_pairwise_scores = pd.concat(\n",
    "    [\n",
    "        pos_cntrl_pairwise_scores[\n",
    "            [\n",
    "                \"pearsons_correlation\",\n",
    "                \"Metadata_treatment__antehoc_group0\",\n",
    "                \"Metadata_plate_well__posthoc_group0\",\n",
    "                \"Metadata_plate_well__posthoc_group1\",\n",
    "            ]\n",
    "        ],\n",
    "        neg_cntrl_pairwise_scores[\n",
    "            [\n",
    "                \"pearsons_correlation\",\n",
    "                \"Metadata_treatment__antehoc_group0\",\n",
    "                \"Metadata_plate_well__posthoc_group0\",\n",
    "                \"Metadata_plate_well__posthoc_group1\",\n",
    "            ]\n",
    "        ],\n",
    "    ]\n",
    ")\n",
    "\n",
    "# update the columns names\n",
    "final_dmso_pairwise_scores.columns = [\"pearsons_correlation\", \"Metadata_treatment\", \"plate_well_0\", \"plate_well_1\"]\n",
    "\n",
    "# save to csv file\n",
    "final_dmso_pairwise_scores.to_csv(\n",
    "    output_path / \"final_pairwise_scores.csv\", index=False\n",
    ")"
   ]
  },
  {
   "cell_type": "markdown",
   "id": "bbbd7fc5",
   "metadata": {},
   "source": [
    "## Calculate pair wise across DMSO consensus profiles"
   ]
  },
  {
   "cell_type": "code",
   "execution_count": 7,
   "id": "4315ac67",
   "metadata": {},
   "outputs": [
    {
     "name": "stderr",
     "output_type": "stream",
     "text": [
      "/home/erikserrano/Programs/miniconda3/envs/cfret-map/lib/python3.11/site-packages/pycytominer/aggregate.py:111: PerformanceWarning: DataFrame is highly fragmented.  This is usually the result of calling `frame.insert` many times, which has poor performance.  Consider joining all columns at once using pd.concat(axis=1) instead. To get a de-fragmented frame, use `newframe = frame.copy()`\n",
      "  population_df = population_df.median().reset_index()\n",
      "/home/erikserrano/Programs/miniconda3/envs/cfret-map/lib/python3.11/site-packages/pycytominer/aggregate.py:111: PerformanceWarning: DataFrame is highly fragmented.  This is usually the result of calling `frame.insert` many times, which has poor performance.  Consider joining all columns at once using pd.concat(axis=1) instead. To get a de-fragmented frame, use `newframe = frame.copy()`\n",
      "  population_df = population_df.median().reset_index()\n",
      "/home/erikserrano/Programs/miniconda3/envs/cfret-map/lib/python3.11/site-packages/pycytominer/aggregate.py:111: PerformanceWarning: DataFrame is highly fragmented.  This is usually the result of calling `frame.insert` many times, which has poor performance.  Consider joining all columns at once using pd.concat(axis=1) instead. To get a de-fragmented frame, use `newframe = frame.copy()`\n",
      "  population_df = population_df.median().reset_index()\n"
     ]
    }
   ],
   "source": [
    "consensus_dmso_df = consensus(\n",
    "    profiles=dmso_profiles,\n",
    "    replicate_columns=[\n",
    "        \"Metadata_plate_barcode\",\n",
    "        \"Metadata_plate_name\",\n",
    "        \"Metadata_treatment\",\n",
    "    ],\n",
    "    operation=\"median\",\n",
    "    features=features,\n",
    ")\n",
    "\n",
    "# split to positive and negative controls\n",
    "consensus_dmso_pos_df = consensus_dmso_df.loc[\n",
    "    consensus_dmso_df[\"Metadata_treatment\"] == \"DMSO-positive\"\n",
    "]\n",
    "consensus_dmso_neg_df = consensus_dmso_df.loc[\n",
    "    consensus_dmso_df[\"Metadata_treatment\"] == \"DMSO-negative\"\n",
    "]"
   ]
  },
  {
   "cell_type": "code",
   "execution_count": 8,
   "id": "79aa4262",
   "metadata": {},
   "outputs": [],
   "source": [
    "# comparing the consensus profiles of the positive controls\n",
    "consensus_dmso_pos_cntrl_comparer = PairwiseCompareManager(\n",
    "    _df=consensus_dmso_pos_df,\n",
    "    _feat_cols=features,\n",
    "    _different_columns=[\"Metadata_plate_name\"],\n",
    "    _same_columns=[\"Metadata_treatment\"],\n",
    "    _comparator=PearsonsCorrelation(),\n",
    ")\n",
    "\n",
    "# comparing the consensus profiles of the negative controls\n",
    "consensus_dmso_neg_cntrl_comparer = PairwiseCompareManager(\n",
    "    _df=consensus_dmso_neg_df,\n",
    "    _feat_cols=features,\n",
    "    _different_columns=[\"Metadata_plate_name\"],\n",
    "    _same_columns=[\"Metadata_treatment\"],\n",
    "    _comparator=PearsonsCorrelation(),\n",
    ")\n",
    "\n",
    "# collecting all pairwise scores\n",
    "consensus_pos_cntrl_pairwise_scores = consensus_dmso_pos_cntrl_comparer()\n",
    "consensus_neg_cntrl_pairwise_scores = consensus_dmso_neg_cntrl_comparer()"
   ]
  },
  {
   "cell_type": "code",
   "execution_count": 9,
   "id": "65998c2d",
   "metadata": {},
   "outputs": [],
   "source": [
    "# selecting only relevant columns\n",
    "consensus_pos_cntrl_scores = consensus_pos_cntrl_pairwise_scores[\n",
    "    [\n",
    "        \"pearsons_correlation\",\n",
    "        \"Metadata_treatment__antehoc_group0\",\n",
    "        \"Metadata_plate_name__posthoc_group0\",\n",
    "        \"Metadata_plate_name__posthoc_group1\",\n",
    "    ]\n",
    "]\n",
    "consensus_neg_cntrl_scores = consensus_neg_cntrl_pairwise_scores[\n",
    "    [\n",
    "        \"pearsons_correlation\",\n",
    "        \"Metadata_treatment__antehoc_group0\",\n",
    "        \"Metadata_plate_name__posthoc_group0\",\n",
    "        \"Metadata_plate_name__posthoc_group1\",\n",
    "    ]\n",
    "] \n",
    "\n",
    "# generated plate well names \n",
    "final_consensus_pairwise_scores = pd.concat(\n",
    "    [\n",
    "        consensus_pos_cntrl_scores,\n",
    "        consensus_neg_cntrl_scores,\n",
    "    ]\n",
    ").rename(columns={\"Metadata_treatment__antehoc_group0\": \"Metadata_treatment\"}).reset_index(drop=True)\n",
    "\n",
    "# saving the final consensus pairwise scores\n",
    "final_consensus_pairwise_scores.to_csv(output_path / \"final_dmso_consensus_pairwise_scores.csv\", index=False)"
   ]
  },
  {
   "cell_type": "markdown",
   "id": "f7a3fe00",
   "metadata": {},
   "source": [
    "## Calculating pairwise compare within replicates\n",
    "\n",
    "In this section, we compute pairwise Pearson correlations between replicates of the same treatment. This helps identify poorly performing technical replicates—those with low correlation values—while high correlations indicate consistent and reliable measurements across replicates."
   ]
  },
  {
   "cell_type": "code",
   "execution_count": 10,
   "id": "c9753a5b",
   "metadata": {},
   "outputs": [],
   "source": [
    "# selecting only the treated wells without the DMSO profiles\n",
    "treated_wells_only_df = agg_profile.loc[\n",
    "    (agg_profile[\"Metadata_treatment\"] != \"DMSO-positive\") & (agg_profile[\"Metadata_treatment\"] != \"DMSO-negative\")\n",
    "].copy()\n",
    "\n",
    "# reducing the metadata to only the relevant ones\n",
    "treated_wells_only_df = treated_wells_only_df[[\"Metadata_plate_name\", \"Metadata_treatment\"] + features]\n"
   ]
  },
  {
   "cell_type": "code",
   "execution_count": null,
   "id": "ed1eb04c",
   "metadata": {},
   "outputs": [
    {
     "name": "stderr",
     "output_type": "stream",
     "text": [
      "/home/erikserrano/Programs/miniconda3/envs/cfret-map/lib/python3.11/site-packages/comparison_tools/PairwiseCompare.py:112: UserWarning: Intra Comparisons were empty\n",
      "  warnings.warn(f\"{_comparison_type_name} were empty\", UserWarning)\n"
     ]
    }
   ],
   "source": [
    "# calculating the pairwise scores between replicates\n",
    "replicate_pairwise_comparer = PairwiseCompareManager(\n",
    "    _df=treated_wells_only_df,\n",
    "    _feat_cols=features,\n",
    "    _different_columns=[\"Metadata_plate_name\"],\n",
    "    _same_columns=[\"Metadata_treatment\"],\n",
    "    _comparator=PearsonsCorrelation(),\n",
    ")\n",
    "\n",
    "# collecting all pairwise scores\n",
    "replicate_pairwise_scores = replicate_pairwise_comparer()"
   ]
  },
  {
   "cell_type": "code",
   "execution_count": 12,
   "id": "3130c1f7",
   "metadata": {},
   "outputs": [],
   "source": [
    "# selecting only relevant columns\n",
    "replicate_pairwise_scores = replicate_pairwise_scores[[\"pearsons_correlation\", \"Metadata_treatment__antehoc_group0\", \"Metadata_plate_name__posthoc_group0\", \"Metadata_plate_name__posthoc_group1\"]]\n",
    "\n",
    "# renaming the columns\n",
    "replicate_pairwise_scores.columns = [\"pearsons_correlation\", \"Metadata_treatment\", \"plate_name_0\", \"plate_name_1\"]\n",
    "\n",
    "# saving the final pairwise scores\n",
    "replicate_pairwise_scores.to_csv(output_path / \"final_replicate_pairwise_scores.csv\", index=False)\n",
    "\n"
   ]
  },
  {
   "cell_type": "markdown",
   "id": "9bdb883a",
   "metadata": {},
   "source": [
    "## Calculating pair wise across treatments\n",
    "\n",
    "In this section of the notebook, we conduct pairwise comparisons across all treatments and specific controls. Two data frames are created:\n",
    "\n",
    "- **healthy_ref**: This dataset contains pairwise calculations comparing all treated failing cells to the healthy reference.\n",
    "- **failing_ref**: This dataset contains pairwise calculations comparing all treated failing cells to the failing reference."
   ]
  },
  {
   "cell_type": "code",
   "execution_count": 13,
   "id": "8bdbf5c3",
   "metadata": {},
   "outputs": [
    {
     "name": "stderr",
     "output_type": "stream",
     "text": [
      "/home/erikserrano/Programs/miniconda3/envs/cfret-map/lib/python3.11/site-packages/comparison_tools/PairwiseCompare.py:80: UserWarning: DataFrame contains NaNs\n",
      "  warnings.warn(\"DataFrame contains NaNs\")\n"
     ]
    }
   ],
   "source": [
    "# calculating pairwise correlation between healthy control and treated failing wells\n",
    "healthy_ref_trt_pairwise_comparer = PairwiseCompareManager(\n",
    "    _df=agg_profile.loc[agg_profile[\"Metadata_treatment\"] != \"DMSO-negative\"],\n",
    "    _feat_cols=features,\n",
    "    _different_columns=[\n",
    "        \"Metadata_control_type\",\n",
    "        \"Metadata_treatment\",\n",
    "    ],\n",
    "    _comparator=PearsonsCorrelation(),\n",
    ")\n",
    "\n",
    "# calculating pairwise correlation between failing control and treated failing wells\n",
    "failing_ref_trt_pairwise_comparer = PairwiseCompareManager(\n",
    "    _df=agg_profile.loc[agg_profile[\"Metadata_treatment\"] != \"DMSO-positive\"],\n",
    "    _feat_cols=features,\n",
    "    _different_columns=[\"Metadata_control_type\", \"Metadata_treatment\"],\n",
    "    _comparator=PearsonsCorrelation(),\n",
    ")\n",
    "\n",
    "# collecting all pairwise scores\n",
    "healthy_ref_trt_pairwise_scores = healthy_ref_trt_pairwise_comparer()\n",
    "failing_ref_trt_pairwise_scores = failing_ref_trt_pairwise_comparer()"
   ]
  },
  {
   "cell_type": "code",
   "execution_count": 14,
   "id": "c3058db2",
   "metadata": {},
   "outputs": [],
   "source": [
    "# Select only the relevant columns and add a reference column for healthy controls\n",
    "health_ref_pairwise_scores = healthy_ref_trt_pairwise_scores[\n",
    "    [\"pearsons_correlation\", \"Metadata_treatment__posthoc_group1\"]\n",
    "].copy()\n",
    "health_ref_pairwise_scores[\"reference\"] = \"Healthy\"\n",
    "\n",
    "# Select only the relevant columns and add a reference column for failing controls\n",
    "failing_ref_pairwise_scores = failing_ref_trt_pairwise_scores[\n",
    "    [\"pearsons_correlation\", \"Metadata_treatment__posthoc_group1\"]\n",
    "].copy()\n",
    "failing_ref_pairwise_scores[\"reference\"] = \"Failing\"\n",
    "\n",
    "# Combine the healthy and failing control dataframes into a single dataframe\n",
    "final_trt_pairwise_scores = (\n",
    "    pd.concat([health_ref_pairwise_scores, failing_ref_pairwise_scores])\n",
    "    .rename(columns={\"Metadata_treatment__posthoc_group1\": \"Metadata_treatment\"})\n",
    "    .reset_index(drop=True)\n",
    ")\n",
    "\n",
    "# Merge the combined dataframe with pathway information from pathway_df\n",
    "# This adds the Metadata_Pathway column to the final dataframe\n",
    "final_trt_pairwise_scores = final_trt_pairwise_scores.merge(\n",
    "    pathway_df, how=\"left\", on=\"Metadata_treatment\"\n",
    ").drop_duplicates()\n",
    "\n",
    "# Validate the correctness of the pathway information by comparing the merged data\n",
    "# with the original pathway dictionary (pathway_dict)\n",
    "final_trt_pairwise_pathways = dict(\n",
    "    zip(\n",
    "        final_trt_pairwise_scores[\"Metadata_treatment\"],\n",
    "        final_trt_pairwise_scores[\"Metadata_Pathway\"],\n",
    "    )\n",
    ")\n",
    "pathway_dict = dict(\n",
    "    zip(\n",
    "        pathway_df[\"Metadata_treatment\"],\n",
    "        pathway_df[\"Metadata_Pathway\"],\n",
    "    )\n",
    ")\n",
    "# Validate the correctness of the pathway information\n",
    "for treatment, merged_pathway in final_trt_pairwise_pathways.items():\n",
    "    original_pathway = pathway_dict.get(treatment)\n",
    "\n",
    "    if original_pathway is None:\n",
    "        raise KeyError(\"Key {treatment} not found in pathway_dict\")\n",
    "    elif merged_pathway != original_pathway:\n",
    "        if pd.isna(merged_pathway) and pd.isna(original_pathway):\n",
    "            continue\n",
    "        raise ValueError(\n",
    "            f\"Pathway mismatch for key {treatment}: {merged_pathway} != {original_pathway}\"\n",
    "        )\n",
    "        \n",
    "# If there are NaN values in the pathway column, fill them with \"No Pathway\"\n",
    "final_trt_pairwise_scores[\"Metadata_Pathway\"] = final_trt_pairwise_scores[\n",
    "    \"Metadata_Pathway\"\n",
    "].apply(lambda x: x if pd.notna(x) else \"No Pathway\")\n",
    "\n",
    "# Save the final dataframe with pairwise scores and pathway information to a CSV file\n",
    "final_trt_pairwise_scores.to_csv(\n",
    "    output_path / \"final_trt_pairwise_scores.csv\", index=False\n",
    ")"
   ]
  }
 ],
 "metadata": {
  "kernelspec": {
   "display_name": "cfret-map",
   "language": "python",
   "name": "python3"
  },
  "language_info": {
   "codemirror_mode": {
    "name": "ipython",
    "version": 3
   },
   "file_extension": ".py",
   "mimetype": "text/x-python",
   "name": "python",
   "nbconvert_exporter": "python",
   "pygments_lexer": "ipython3",
   "version": "3.11.11"
  }
 },
 "nbformat": 4,
 "nbformat_minor": 5
}
