{
 "cells": [
  {
   "cell_type": "markdown",
   "metadata": {},
   "source": [
    "## Applying kBET to CFReT data\n",
    "In this notebook, we use the k-nearest neighbour Batch Effect Test ([kBET](https://www.nature.com/articles/s41592-018-0254-1)) to evaluate whether there are significant batch effects or technical variations between plates in our dataset. Specifically, our experimental design includes one primary batch composed of four plates, each serving as technical replicates containing the same set of 50 compounds.\n",
    "\n",
    "kBET assesses whether different batches or technical groups (such as plates) are well-mixed in a batch by examining the local distribution of labels in a high-dimensional feature space. If the distribution of plate labels within each sample's nearest neighbors closely matches the overall plate distribution, kBET concludes that technical variation is minimal. Conversely, significant differences indicate the presence of substantial batch or technical effects. By applying kBET, we can quantify and visualize how evenly mixed our replicate plates are, ensuring the quality and reproducibility of our experimental results."
   ]
  },
  {
   "cell_type": "code",
   "execution_count": 1,
   "metadata": {
    "vscode": {
     "languageId": "r"
    }
   },
   "outputs": [],
   "source": [
    "suppressMessages(library(RCurl)) # for downloading files\n",
    "suppressMessages(library(dplyr)) # data manipulation\n",
    "suppressMessages(library(gridExtra)) # for arranging plots\n",
    "suppressMessages(library(ggplot2)) # plotting\n",
    "suppressMessages(library(kBET)) # kBET package\n",
    "suppressMessages(library(data.table)) # loading csv files"
   ]
  },
  {
   "cell_type": "code",
   "execution_count": 2,
   "metadata": {
    "vscode": {
     "languageId": "r"
    }
   },
   "outputs": [],
   "source": [
    "# set data path. raise error if the data path is not found\n",
    "data_path <- file.path(\"../UMAP-aggregated-fs-profiles/results/concat_data/batch_1_concat_agg_fs.csv\")\n",
    "if (!file.exists(data_path)) {\n",
    "  stop(\"The data path does not exist.\")\n",
    "}\n",
    "\n",
    "# setting output path for plots and figures\n",
    "output_path <- file.path(\"results/figures\")\n",
    "if (!dir.exists(output_path)) {\n",
    "  dir.create(output_path, recursive = TRUE)\n",
    "}"
   ]
  },
  {
   "cell_type": "code",
   "execution_count": 3,
   "metadata": {
    "vscode": {
     "languageId": "r"
    }
   },
   "outputs": [],
   "source": [
    "# Load the aggregated feature profiles data from the specified path\n",
    "agg_fs_profiles_df <- fread(data_path)\n",
    "\n",
    "# Split the columns into metadata and morphology feature dataframes\n",
    "# Metadata columns start with \"Metadata_\"\n",
    "metadata_df <- agg_fs_profiles_df %>% select(starts_with(\"Metadata_\"))\n",
    "\n",
    "# Morphology feature columns do not start with \"Metadata_\"\n",
    "morphology_df <- agg_fs_profiles_df %>% select(-starts_with(\"Metadata_\"))"
   ]
  },
  {
   "cell_type": "code",
   "execution_count": 4,
   "metadata": {
    "vscode": {
     "languageId": "r"
    }
   },
   "outputs": [],
   "source": [
    "# execute kBET\n",
    "set.seed(0)\n",
    "batch.estimate <- kBET(morphology_df, metadata_df$Metadata_plate_barcode, n_repeat = 1000, plot=FALSE)"
   ]
  },
  {
   "cell_type": "code",
   "execution_count": 5,
   "metadata": {
    "vscode": {
     "languageId": "r"
    }
   },
   "outputs": [
    {
     "data": {
      "image/png": "[encoded data removed]",
      "text/plain": [
       "plot without title"
      ]
     },
     "metadata": {
      "image/png": {
       "height": 600,
       "width": 300
      }
     },
     "output_type": "display_data"
    }
   ],
   "source": [
    "# size of plot in notebooks\n",
    "options(repr.plot.width=5, repr.plot.height=10)\n",
    "\n",
    "# collecting kBET values for plotting\n",
    "plot.data <- data.frame(class=rep(c('observed', 'expected'), \n",
    "                                  each=length(batch.estimate$stats$kBET.observed)), \n",
    "                        data =  c(batch.estimate$stats$kBET.observed,\n",
    "                                  batch.estimate$stats$kBET.expected))\n",
    "# plot the kbet results \n",
    "kbet_results_plot <- ggplot(plot.data, aes(class, data)) + geom_boxplot() + \n",
    "     labs(x='Test', y='Rejection rate',title='kBET test results') +\n",
    "     theme_bw() +  \n",
    "     theme(text = element_text(size=25)) +\n",
    "     scale_y_continuous(limits=c(0,1))\n",
    "\n",
    "\n",
    "kbet_results_plot\n",
    "\n",
    "# save the plot\n",
    "ggsave(file.path(output_path, \"kbet_results_plot.png\"), kbet_results_plot, width = 5, height = 10, units = \"in\", dpi = 300)"
   ]
  },
  {
   "cell_type": "code",
   "execution_count": 6,
   "metadata": {
    "vscode": {
     "languageId": "r"
    }
   },
   "outputs": [
    {
     "data": {
      "text/html": [
       "<table class=\"dataframe\">\n",
       "<caption>A data.frame: 4 × 3</caption>\n",
       "<thead>\n",
       "\t<tr><th></th><th scope=col>kBET (null)</th><th scope=col>kBET</th><th scope=col>p-value</th></tr>\n",
       "\t<tr><th></th><th scope=col>&lt;dbl&gt;</th><th scope=col>&lt;dbl&gt;</th><th scope=col>&lt;dbl&gt;</th></tr>\n",
       "</thead>\n",
       "<tbody>\n",
       "\t<tr><th scope=row>mean</th><td>0.01549333</td><td>0.02792</td><td>0.614616753</td></tr>\n",
       "\t<tr><th scope=row>2.5%</th><td>0.00000000</td><td>0.00000</td><td>0.002542588</td></tr>\n",
       "\t<tr><th scope=row>50%</th><td>0.01333333</td><td>0.04000</td><td>0.590818968</td></tr>\n",
       "\t<tr><th scope=row>97.5%</th><td>0.05333333</td><td>0.08000</td><td>1.000000000</td></tr>\n",
       "</tbody>\n",
       "</table>\n"
      ],
      "text/latex": [
       "A data.frame: 4 × 3\n",
       "\\begin{tabular}{r|lll}\n",
       "  & kBET (null) & kBET & p-value\\\\\n",
       "  & <dbl> & <dbl> & <dbl>\\\\\n",
       "\\hline\n",
       "\tmean & 0.01549333 & 0.02792 & 0.614616753\\\\\n",
       "\t2.5\\% & 0.00000000 & 0.00000 & 0.002542588\\\\\n",
       "\t50\\% & 0.01333333 & 0.04000 & 0.590818968\\\\\n",
       "\t97.5\\% & 0.05333333 & 0.08000 & 1.000000000\\\\\n",
       "\\end{tabular}\n"
      ],
      "text/markdown": [
       "\n",
       "A data.frame: 4 × 3\n",
       "\n",
       "| <!--/--> | kBET (null) &lt;dbl&gt; | kBET &lt;dbl&gt; | p-value &lt;dbl&gt; |\n",
       "|---|---|---|---|\n",
       "| mean | 0.01549333 | 0.02792 | 0.614616753 |\n",
       "| 2.5% | 0.00000000 | 0.00000 | 0.002542588 |\n",
       "| 50% | 0.01333333 | 0.04000 | 0.590818968 |\n",
       "| 97.5% | 0.05333333 | 0.08000 | 1.000000000 |\n",
       "\n"
      ],
      "text/plain": [
       "      kBET (null) kBET    p-value    \n",
       "mean  0.01549333  0.02792 0.614616753\n",
       "2.5%  0.00000000  0.00000 0.002542588\n",
       "50%   0.01333333  0.04000 0.590818968\n",
       "97.5% 0.05333333  0.08000 1.000000000"
      ]
     },
     "metadata": {},
     "output_type": "display_data"
    }
   ],
   "source": [
    "# obtaining summary table\n",
    "kbet_summary <- batch.estimate$summary\n",
    "\n",
    "# update the column names for the summary table\n",
    "colnames(kbet_summary) <- c(\"kBET (null)\", \"kBET\", \"p-value\")\n",
    "\n",
    "# save the summary table as csv\n",
    "write.csv(kbet_summary, file.path(output_path, \"kbet_summary.csv\"), row.names = FALSE)\n",
    "\n",
    "# display trable\n",
    "kbet_summary"
   ]
  }
 ],
 "metadata": {
  "kernelspec": {
   "display_name": "R",
   "language": "R",
   "name": "ir"
  },
  "language_info": {
   "codemirror_mode": "r",
   "file_extension": ".r",
   "mimetype": "text/x-r-source",
   "name": "R",
   "pygments_lexer": "r",
   "version": "4.2.3"
  }
 },
 "nbformat": 4,
 "nbformat_minor": 2
}
